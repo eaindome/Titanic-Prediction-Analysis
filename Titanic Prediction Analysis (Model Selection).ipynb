{
 "cells": [
  {
   "cell_type": "markdown",
   "id": "bceb460f",
   "metadata": {},
   "source": [
    "### Work Flow\n",
    "Data ---> Data Preprocessing ---> Feature Engineering ---> Data Analysis ---> Model Selection & Evaluation"
   ]
  },
  {
   "cell_type": "code",
   "execution_count": 1,
   "id": "0a392bf8",
   "metadata": {},
   "outputs": [],
   "source": [
    "# Import necessary libraries\n",
    "import pandas as pd\n",
    "import seaborn as sns\n",
    "import matplotlib.pyplot as plt"
   ]
  },
  {
   "cell_type": "markdown",
   "id": "4b540013",
   "metadata": {},
   "source": [
    "### Data"
   ]
  },
  {
   "cell_type": "code",
   "execution_count": null,
   "id": "abb85f77",
   "metadata": {},
   "outputs": [],
   "source": []
  },
  {
   "cell_type": "code",
   "execution_count": 2,
   "id": "f0f31358",
   "metadata": {},
   "outputs": [
    {
     "name": "stdout",
     "output_type": "stream",
     "text": [
      "Shape of dataframe: (891, 12)\n"
     ]
    },
    {
     "data": {
      "text/html": [
       "<div>\n",
       "<style scoped>\n",
       "    .dataframe tbody tr th:only-of-type {\n",
       "        vertical-align: middle;\n",
       "    }\n",
       "\n",
       "    .dataframe tbody tr th {\n",
       "        vertical-align: top;\n",
       "    }\n",
       "\n",
       "    .dataframe thead th {\n",
       "        text-align: right;\n",
       "    }\n",
       "</style>\n",
       "<table border=\"1\" class=\"dataframe\">\n",
       "  <thead>\n",
       "    <tr style=\"text-align: right;\">\n",
       "      <th></th>\n",
       "      <th>PassengerId</th>\n",
       "      <th>Survived</th>\n",
       "      <th>Pclass</th>\n",
       "      <th>Name</th>\n",
       "      <th>Sex</th>\n",
       "      <th>Age</th>\n",
       "      <th>SibSp</th>\n",
       "      <th>Parch</th>\n",
       "      <th>Ticket</th>\n",
       "      <th>Fare</th>\n",
       "      <th>Cabin</th>\n",
       "      <th>Embarked</th>\n",
       "    </tr>\n",
       "  </thead>\n",
       "  <tbody>\n",
       "    <tr>\n",
       "      <th>0</th>\n",
       "      <td>1</td>\n",
       "      <td>0</td>\n",
       "      <td>3</td>\n",
       "      <td>Braund, Mr. Owen Harris</td>\n",
       "      <td>male</td>\n",
       "      <td>22.0</td>\n",
       "      <td>1</td>\n",
       "      <td>0</td>\n",
       "      <td>A/5 21171</td>\n",
       "      <td>7.2500</td>\n",
       "      <td>NaN</td>\n",
       "      <td>S</td>\n",
       "    </tr>\n",
       "    <tr>\n",
       "      <th>1</th>\n",
       "      <td>2</td>\n",
       "      <td>1</td>\n",
       "      <td>1</td>\n",
       "      <td>Cumings, Mrs. John Bradley (Florence Briggs Th...</td>\n",
       "      <td>female</td>\n",
       "      <td>38.0</td>\n",
       "      <td>1</td>\n",
       "      <td>0</td>\n",
       "      <td>PC 17599</td>\n",
       "      <td>71.2833</td>\n",
       "      <td>C85</td>\n",
       "      <td>C</td>\n",
       "    </tr>\n",
       "    <tr>\n",
       "      <th>2</th>\n",
       "      <td>3</td>\n",
       "      <td>1</td>\n",
       "      <td>3</td>\n",
       "      <td>Heikkinen, Miss. Laina</td>\n",
       "      <td>female</td>\n",
       "      <td>26.0</td>\n",
       "      <td>0</td>\n",
       "      <td>0</td>\n",
       "      <td>STON/O2. 3101282</td>\n",
       "      <td>7.9250</td>\n",
       "      <td>NaN</td>\n",
       "      <td>S</td>\n",
       "    </tr>\n",
       "    <tr>\n",
       "      <th>3</th>\n",
       "      <td>4</td>\n",
       "      <td>1</td>\n",
       "      <td>1</td>\n",
       "      <td>Futrelle, Mrs. Jacques Heath (Lily May Peel)</td>\n",
       "      <td>female</td>\n",
       "      <td>35.0</td>\n",
       "      <td>1</td>\n",
       "      <td>0</td>\n",
       "      <td>113803</td>\n",
       "      <td>53.1000</td>\n",
       "      <td>C123</td>\n",
       "      <td>S</td>\n",
       "    </tr>\n",
       "    <tr>\n",
       "      <th>4</th>\n",
       "      <td>5</td>\n",
       "      <td>0</td>\n",
       "      <td>3</td>\n",
       "      <td>Allen, Mr. William Henry</td>\n",
       "      <td>male</td>\n",
       "      <td>35.0</td>\n",
       "      <td>0</td>\n",
       "      <td>0</td>\n",
       "      <td>373450</td>\n",
       "      <td>8.0500</td>\n",
       "      <td>NaN</td>\n",
       "      <td>S</td>\n",
       "    </tr>\n",
       "  </tbody>\n",
       "</table>\n",
       "</div>"
      ],
      "text/plain": [
       "   PassengerId  Survived  Pclass  \\\n",
       "0            1         0       3   \n",
       "1            2         1       1   \n",
       "2            3         1       3   \n",
       "3            4         1       1   \n",
       "4            5         0       3   \n",
       "\n",
       "                                                Name     Sex   Age  SibSp  \\\n",
       "0                            Braund, Mr. Owen Harris    male  22.0      1   \n",
       "1  Cumings, Mrs. John Bradley (Florence Briggs Th...  female  38.0      1   \n",
       "2                             Heikkinen, Miss. Laina  female  26.0      0   \n",
       "3       Futrelle, Mrs. Jacques Heath (Lily May Peel)  female  35.0      1   \n",
       "4                           Allen, Mr. William Henry    male  35.0      0   \n",
       "\n",
       "   Parch            Ticket     Fare Cabin Embarked  \n",
       "0      0         A/5 21171   7.2500   NaN        S  \n",
       "1      0          PC 17599  71.2833   C85        C  \n",
       "2      0  STON/O2. 3101282   7.9250   NaN        S  \n",
       "3      0            113803  53.1000  C123        S  \n",
       "4      0            373450   8.0500   NaN        S  "
      ]
     },
     "execution_count": 2,
     "metadata": {},
     "output_type": "execute_result"
    }
   ],
   "source": [
    "# loading the data\n",
    "titanic = pd.read_csv('train.csv')\n",
    "\n",
    "# checking the size of the dataframe\n",
    "print(f\"Shape of dataframe: {titanic.shape}\")\n",
    "\n",
    "# print the first five rows of the dataframe\n",
    "titanic.head()"
   ]
  },
  {
   "cell_type": "markdown",
   "id": "41c04d92",
   "metadata": {},
   "source": [
    "### Data Preprocessing"
   ]
  },
  {
   "cell_type": "markdown",
   "id": "c81cee12",
   "metadata": {},
   "source": [
    "###### perform some basic data preprocessing"
   ]
  },
  {
   "cell_type": "code",
   "execution_count": 3,
   "id": "38fc4cac",
   "metadata": {},
   "outputs": [
    {
     "name": "stdout",
     "output_type": "stream",
     "text": [
      "<class 'pandas.core.frame.DataFrame'>\n",
      "RangeIndex: 891 entries, 0 to 890\n",
      "Data columns (total 12 columns):\n",
      " #   Column       Non-Null Count  Dtype  \n",
      "---  ------       --------------  -----  \n",
      " 0   PassengerId  891 non-null    int64  \n",
      " 1   Survived     891 non-null    int64  \n",
      " 2   Pclass       891 non-null    int64  \n",
      " 3   Name         891 non-null    object \n",
      " 4   Sex          891 non-null    object \n",
      " 5   Age          714 non-null    float64\n",
      " 6   SibSp        891 non-null    int64  \n",
      " 7   Parch        891 non-null    int64  \n",
      " 8   Ticket       891 non-null    object \n",
      " 9   Fare         891 non-null    float64\n",
      " 10  Cabin        204 non-null    object \n",
      " 11  Embarked     889 non-null    object \n",
      "dtypes: float64(2), int64(5), object(5)\n",
      "memory usage: 83.7+ KB\n"
     ]
    }
   ],
   "source": [
    "# finding some information on the dataframe\n",
    "titanic.info()"
   ]
  },
  {
   "cell_type": "code",
   "execution_count": 4,
   "id": "3ebb31b6",
   "metadata": {},
   "outputs": [],
   "source": [
    "# drop unnecessary columns\n",
    "titanic = titanic.drop(['PassengerId', 'Name', 'Ticket', 'Cabin'], axis=1)"
   ]
  },
  {
   "cell_type": "code",
   "execution_count": 5,
   "id": "a334e87f",
   "metadata": {},
   "outputs": [
    {
     "data": {
      "text/plain": [
       "Survived      0\n",
       "Pclass        0\n",
       "Sex           0\n",
       "Age         177\n",
       "SibSp         0\n",
       "Parch         0\n",
       "Fare          0\n",
       "Embarked      2\n",
       "dtype: int64"
      ]
     },
     "execution_count": 5,
     "metadata": {},
     "output_type": "execute_result"
    }
   ],
   "source": [
    "# check for missing values\n",
    "titanic.isnull().sum()"
   ]
  },
  {
   "cell_type": "code",
   "execution_count": 6,
   "id": "e990d2d9",
   "metadata": {},
   "outputs": [],
   "source": [
    "# fill missing age values with the median value\n",
    "titanic['Age'] = titanic['Age'].fillna(titanic['Age'].mean())"
   ]
  },
  {
   "cell_type": "code",
   "execution_count": 7,
   "id": "76b739da",
   "metadata": {},
   "outputs": [],
   "source": [
    "# fill missing embarked values with mode\n",
    "titanic['Embarked'] = titanic['Embarked'].fillna(titanic['Embarked'].mode()[0])"
   ]
  },
  {
   "cell_type": "markdown",
   "id": "b072c172",
   "metadata": {},
   "source": [
    "### Feature Engineering"
   ]
  },
  {
   "cell_type": "markdown",
   "id": "59538ab2",
   "metadata": {},
   "source": [
    "###### performing feature engineering"
   ]
  },
  {
   "cell_type": "code",
   "execution_count": 8,
   "id": "d8aed8ba",
   "metadata": {},
   "outputs": [],
   "source": [
    "# Add a new feature for family size\n",
    "titanic['FamilySize'] = titanic['SibSp'] + titanic['Parch'] + 1"
   ]
  },
  {
   "cell_type": "code",
   "execution_count": 9,
   "id": "44d4c6c5",
   "metadata": {},
   "outputs": [],
   "source": [
    "# Add a new feature for alone/not alone\n",
    "titanic['IsAlone'] = 0"
   ]
  },
  {
   "cell_type": "code",
   "execution_count": 10,
   "id": "bd3e1a3f",
   "metadata": {},
   "outputs": [],
   "source": [
    "# Set IsAlone to 1 if family size is 1\n",
    "titanic.loc[titanic['IsAlone'] == 1, 'IsAlone'] = 1"
   ]
  },
  {
   "cell_type": "code",
   "execution_count": 11,
   "id": "d82de93d",
   "metadata": {},
   "outputs": [],
   "source": [
    "# converting categorical columns\n",
    "titanic = titanic.replace({'Sex':{'male':0, 'female':1}, 'Embarked':{'S':0, 'C':1, 'Q':2}})"
   ]
  },
  {
   "cell_type": "markdown",
   "id": "fa36cb30",
   "metadata": {},
   "source": [
    "### Model Selection"
   ]
  },
  {
   "cell_type": "code",
   "execution_count": 12,
   "id": "1afca884",
   "metadata": {},
   "outputs": [],
   "source": [
    "### Models\n",
    "from sklearn.linear_model import LogisticRegression\n",
    "from sklearn.ensemble import RandomForestClassifier\n",
    "from sklearn.preprocessing import StandardScaler\n",
    "from sklearn.model_selection import train_test_split, GridSearchCV\n",
    "from sklearn.metrics import accuracy_score, confusion_matrix"
   ]
  },
  {
   "cell_type": "code",
   "execution_count": 13,
   "id": "267467e8",
   "metadata": {},
   "outputs": [],
   "source": [
    "# split the data into features (X) and target (y)\n",
    "X = titanic.drop(['Survived', 'Parch', 'SibSp', 'Fare'], axis=1)\n",
    "y = titanic['Survived']\n",
    "\n",
    "# split the data into training and testing sets\n",
    "X_train, X_test, y_train, y_test = train_test_split(X,y, test_size=0.2, random_state=42)\n",
    "\n",
    "# peform feature scaling\n",
    "scaler = StandardScaler()\n",
    "X_train_scaled = scaler.fit_transform(X_train)\n",
    "X_test_scaled = scaler.transform(X_test)"
   ]
  },
  {
   "cell_type": "code",
   "execution_count": 14,
   "id": "4be508a4",
   "metadata": {},
   "outputs": [
    {
     "name": "stdout",
     "output_type": "stream",
     "text": [
      "Accuracy: 82.68156424581005\n",
      "[[92 13]\n",
      " [18 56]]\n"
     ]
    }
   ],
   "source": [
    "# Model 1\n",
    "# Normal Random Forest Classifier\n",
    "\n",
    "# train the random forest classifier\n",
    "model_1 = RandomForestClassifier(n_estimators=100, random_state=42)\n",
    "model_1.fit(X_train, y_train)\n",
    "\n",
    "# make predictions on the test set\n",
    "y_pred = model_1.predict(X_test)\n",
    "\n",
    "# Evaluate the model\n",
    "accuracy = accuracy_score(y_test, y_pred)\n",
    "print(f\"Accuracy: {accuracy*100}\")\n",
    "\n",
    "# using the confusion matrix\n",
    "print(confusion_matrix(y_test, y_pred))"
   ]
  },
  {
   "cell_type": "code",
   "execution_count": 15,
   "id": "ba2b840b",
   "metadata": {},
   "outputs": [],
   "source": [
    "import warnings\n",
    "warnings.filterwarnings('ignore')"
   ]
  },
  {
   "cell_type": "code",
   "execution_count": 16,
   "id": "718da8d1",
   "metadata": {},
   "outputs": [
    {
     "name": "stdout",
     "output_type": "stream",
     "text": [
      "Best Parameters: {'max_depth': 5, 'max_features': 'auto', 'min_samples_leaf': 1, 'min_samples_split': 2, 'n_estimators': 100}\n",
      "Best Score: 0.8300305328474341\n",
      "Accuracy: 81.56424581005587\n",
      "[[95 10]\n",
      " [23 51]]\n"
     ]
    }
   ],
   "source": [
    "# Model 2\n",
    "# Random Forest Classifer 1 with hyperparameter tuning\n",
    "\n",
    "# define the parameter grid for hyperparameter tuning\n",
    "param_grid = {\n",
    "    'n_estimators': [100, 200, 300],\n",
    "    'max_depth': [5, 10, None],\n",
    "    'min_samples_split': [2, 5, 10],\n",
    "    'min_samples_leaf': [1, 2, 4],\n",
    "    'max_features': ['auto', 'sqrt', 'log2']\n",
    "}\n",
    "\n",
    "# create the random forest classifier\n",
    "model_2 = RandomForestClassifier(random_state=42)\n",
    "\n",
    "# perform grid search with corss-validation\n",
    "grid_search = GridSearchCV(estimator=model_2, param_grid=param_grid, cv=5)\n",
    "grid_search.fit(X_train, y_train)\n",
    "\n",
    "# Get the best parameters and best score\n",
    "best_params = grid_search.best_params_\n",
    "best_score = grid_search.best_score_\n",
    "print(f\"Best Parameters: {best_params}\")\n",
    "print(f\"Best Score: {best_score}\")\n",
    "\n",
    "# use the best parameters to train the final model\n",
    "final_model = RandomForestClassifier(random_state=42, **best_params)\n",
    "final_model.fit(X_train, y_train)\n",
    "\n",
    "# make predictions on the test set using the final model\n",
    "y_pred = final_model.predict(X_test)\n",
    "\n",
    "# Evaluate the final model\n",
    "accuracy = accuracy_score(y_test, y_pred)\n",
    "print(f\"Accuracy: {accuracy*100}\")\n",
    "\n",
    "# using the confusion matrix\n",
    "print(confusion_matrix(y_test, y_pred))"
   ]
  },
  {
   "cell_type": "code",
   "execution_count": 17,
   "id": "69e0fd3d",
   "metadata": {},
   "outputs": [
    {
     "name": "stdout",
     "output_type": "stream",
     "text": [
      "Best Parameters: {'max_depth': 5, 'max_features': 'sqrt', 'min_samples_leaf': 1, 'min_samples_split': 2, 'n_estimators': 100}\n",
      "Best Score: 0.8286220821432089\n",
      "Accuracy: 81.56424581005587\n",
      "[[95 10]\n",
      " [23 51]]\n"
     ]
    }
   ],
   "source": [
    "# Model 3\n",
    "# Random Forest Classifer 2 with hyperparameter tuning\n",
    "\n",
    "# define the parameter grid for hyperparameter tuning\n",
    "param_grid = {\n",
    "    'n_estimators': [100, 200, 300],\n",
    "    'max_depth': [None, 5, 10],\n",
    "    'min_samples_split': [2, 5, 10],\n",
    "    'min_samples_leaf': [1, 2, 4],\n",
    "    'max_features': ['sqrt', 'log2']\n",
    "}\n",
    "\n",
    "# create the random forest classifier\n",
    "model = RandomForestClassifier(random_state=42)\n",
    "\n",
    "# perform grid search with corss-validation\n",
    "grid_search = GridSearchCV(estimator=model, param_grid=param_grid, cv=5)\n",
    "grid_search.fit(X_train_scaled, y_train)\n",
    "\n",
    "# Get the best parameters and best score\n",
    "best_params = grid_search.best_params_\n",
    "best_score = grid_search.best_score_\n",
    "print(f\"Best Parameters: {best_params}\")\n",
    "print(f\"Best Score: {best_score}\")\n",
    "\n",
    "# use the best parameters to train the final model\n",
    "final_model = RandomForestClassifier(random_state=42, **best_params)\n",
    "final_model.fit(X_train_scaled, y_train)\n",
    "\n",
    "# make predictions on the test set using the final model\n",
    "y_pred = final_model.predict(X_test_scaled)\n",
    "\n",
    "# Evaluate the final model\n",
    "accuracy = accuracy_score(y_test, y_pred)\n",
    "print(f\"Accuracy: {accuracy*100}\")\n",
    "\n",
    "# using the confusion matrix\n",
    "print(confusion_matrix(y_test, y_pred))"
   ]
  },
  {
   "cell_type": "code",
   "execution_count": 18,
   "id": "fe590ff6",
   "metadata": {},
   "outputs": [
    {
     "name": "stdout",
     "output_type": "stream",
     "text": [
      "Best Parameters: {'colsample_bytree': 0.9, 'learning_rate': 0.1, 'max_depth': 3, 'n_estimators': 100, 'subsample': 1.0}\n",
      "Best Score: 0.8328277356446371\n",
      "Accuracy: 82.68156424581005\n",
      "[[96  9]\n",
      " [22 52]]\n"
     ]
    }
   ],
   "source": [
    "# Model 4\n",
    "# XGBoost Classifer with hyperparameter tuning\n",
    "from xgboost import XGBClassifier\n",
    "\n",
    "# define the parameter grid for hyperparameter tuning\n",
    "param_grid = {\n",
    "    'learning_rate': [0.1, 0.01, 0.001],\n",
    "    'n_estimators': [100, 200, 300],\n",
    "    'max_depth': [3, 5, 7],\n",
    "    'subsample': [0.8, 0.9, 1.0],\n",
    "    'colsample_bytree': [0.8, 0.9, 1.0]\n",
    "}\n",
    "\n",
    "# create the XGBoost model\n",
    "model = XGBClassifier()\n",
    "\n",
    "# Perform grid search with cross-validation\n",
    "grid_search = GridSearchCV(estimator=model, param_grid=param_grid, cv=5)\n",
    "grid_search.fit(X_train_scaled, y_train)\n",
    "\n",
    "# Get the best parameters and best score\n",
    "best_params = grid_search.best_params_\n",
    "best_score = grid_search.best_score_\n",
    "print(f\"Best Parameters: {best_params}\")\n",
    "print(f\"Best Score: {best_score}\")\n",
    "\n",
    "# use the best parameters to train the final model\n",
    "final_model = XGBClassifier(**best_params)\n",
    "final_model.fit(X_train_scaled, y_train)\n",
    "\n",
    "# make predictions on the test set using the final model\n",
    "y_pred = final_model.predict(X_test_scaled)\n",
    "\n",
    "# Evaluate the final model\n",
    "accuracy = accuracy_score(y_test, y_pred)\n",
    "print(f\"Accuracy: {accuracy*100}\")\n",
    "\n",
    "# using the confusion matrix\n",
    "print(confusion_matrix(y_test, y_pred))"
   ]
  },
  {
   "cell_type": "code",
   "execution_count": 19,
   "id": "cd6cef24",
   "metadata": {},
   "outputs": [
    {
     "name": "stdout",
     "output_type": "stream",
     "text": [
      "Accuracy score of our model on training data: 80.33707865168539\n",
      "Accuracy score of our model on test data: 81.56424581005587\n"
     ]
    },
    {
     "data": {
      "text/plain": [
       "array([[92, 13],\n",
       "       [20, 54]], dtype=int64)"
      ]
     },
     "execution_count": 19,
     "metadata": {},
     "output_type": "execute_result"
    }
   ],
   "source": [
    "# Model 5\n",
    "# Logistic Regression 1 \n",
    "\n",
    "# load the model\n",
    "model = LogisticRegression()\n",
    "\n",
    "# training the logistic regression model with training data\n",
    "model.fit(X_train, y_train)\n",
    "\n",
    "# make predictions on training data\n",
    "predictions_train = model.predict(X_train)\n",
    "\n",
    "# accuracy score on training data\n",
    "accuracy_train = accuracy_score(y_train, predictions_train)\n",
    "print(f\"Accuracy score of our model on training data: {accuracy_train*100}\")\n",
    "\n",
    "# make predictions on testing data\n",
    "predictions_test = model.predict(X_test)\n",
    "\n",
    "# accuracy score on training data\n",
    "accuracy_test = accuracy_score(y_test, predictions_test)\n",
    "print(f\"Accuracy score of our model on test data: {accuracy_test*100}\")\n",
    "\n",
    "# using confusion matrix on training data\n",
    "confusion_matrix(y_train, predictions_train)\n",
    "\n",
    "# using confusion matrix on testing data\n",
    "confusion_matrix(y_test, predictions_test)"
   ]
  },
  {
   "cell_type": "code",
   "execution_count": 20,
   "id": "b8a0a59a",
   "metadata": {},
   "outputs": [
    {
     "name": "stdout",
     "output_type": "stream",
     "text": [
      "Best Parameters: {'C': 0.01, 'penalty': 'l2'}\n",
      "Best Score: 0.8089727174234216\n",
      "Accuracy: 80.44692737430168\n",
      "[[93 12]\n",
      " [23 51]]\n"
     ]
    }
   ],
   "source": [
    "# Model 6\n",
    "# Logistic Regression 2 with hyperparameter tuning\n",
    "\n",
    "# define the parameter grid for hyperparameter tuning\n",
    "param_grid = {\n",
    "    'C': [0.001, 0.01, 0.1, 1, 10, 100],\n",
    "    'penalty': ['l1', 'l2', 'elasticnet', 'none']\n",
    "}\n",
    "\n",
    "# create the logistic regression model\n",
    "model = LogisticRegression()\n",
    "\n",
    "# Perform grid search with cross-validation\n",
    "grid_search = GridSearchCV(estimator=model, param_grid=param_grid, cv=5)\n",
    "grid_search.fit(X_train_scaled, y_train)\n",
    "\n",
    "# Get the best parameters and best score\n",
    "best_params = grid_search.best_params_\n",
    "best_score = grid_search.best_score_\n",
    "print(f\"Best Parameters: {best_params}\")\n",
    "print(f\"Best Score: {best_score}\")\n",
    "\n",
    "# use the best parameters to train the final model\n",
    "final_model = LogisticRegression(**best_params)\n",
    "final_model.fit(X_train_scaled, y_train)\n",
    "\n",
    "# make predictions on the test set using the final model\n",
    "y_pred = final_model.predict(X_test_scaled)\n",
    "\n",
    "# Evaluate the final model\n",
    "accuracy = accuracy_score(y_test, y_pred)\n",
    "print(f\"Accuracy: {accuracy*100}\")\n",
    "\n",
    "# using the confusion matrix\n",
    "print(confusion_matrix(y_test, y_pred))"
   ]
  },
  {
   "cell_type": "code",
   "execution_count": 21,
   "id": "87e74696",
   "metadata": {},
   "outputs": [
    {
     "name": "stdout",
     "output_type": "stream",
     "text": [
      "Accuracy: 76.53631284916202\n",
      "[[84 21]\n",
      " [21 53]]\n"
     ]
    }
   ],
   "source": [
    "# Model 7\n",
    "# Naive Bayes with hyperparameter tuning\n",
    "from sklearn.naive_bayes import GaussianNB\n",
    "\n",
    "# for naive bayes, there are no hyperparameters to tune \n",
    "\n",
    "# Use the best parameters (not applicable for Gaussian Naive Bayes) to train the final model\n",
    "final_model = GaussianNB()\n",
    "final_model.fit(X_train_scaled, y_train)\n",
    "\n",
    "# Make predictions on the test set using the final model\n",
    "y_pred = final_model.predict(X_test_scaled)\n",
    "\n",
    "# Evaluate the final model\n",
    "accuracy = accuracy_score(y_test, y_pred)\n",
    "print(f\"Accuracy: {accuracy*100}\")\n",
    "\n",
    "# using the confusion matrix\n",
    "print(confusion_matrix(y_test, y_pred))"
   ]
  },
  {
   "cell_type": "code",
   "execution_count": null,
   "id": "b6831e87",
   "metadata": {},
   "outputs": [],
   "source": []
  },
  {
   "cell_type": "code",
   "execution_count": null,
   "id": "441277aa",
   "metadata": {},
   "outputs": [],
   "source": []
  },
  {
   "cell_type": "code",
   "execution_count": null,
   "id": "b5bf39b4",
   "metadata": {},
   "outputs": [],
   "source": []
  }
 ],
 "metadata": {
  "kernelspec": {
   "display_name": "Python 3 (ipykernel)",
   "language": "python",
   "name": "python3"
  },
  "language_info": {
   "codemirror_mode": {
    "name": "ipython",
    "version": 3
   },
   "file_extension": ".py",
   "mimetype": "text/x-python",
   "name": "python",
   "nbconvert_exporter": "python",
   "pygments_lexer": "ipython3",
   "version": "3.9.13"
  }
 },
 "nbformat": 4,
 "nbformat_minor": 5
}
